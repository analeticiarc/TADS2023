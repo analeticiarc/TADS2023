{
 "cells": [
  {
   "cell_type": "markdown",
   "metadata": {
    "isInteractiveWindowMessageCell": true
   },
   "source": [
    "Connected to Python 3.10.13"
   ]
  },
  {
   "cell_type": "code",
   "execution_count": 1,
   "metadata": {},
   "outputs": [
    {
     "ename": "NameError",
     "evalue": "name 'download_data' is not defined",
     "output_type": "error",
     "traceback": [
      "\u001b[0;31m---------------------------------------------------------------------------\u001b[0m",
      "\u001b[0;31mNameError\u001b[0m                                 Traceback (most recent call last)",
      "\u001b[1;32m/workspaces/tads-2023/draft.py\u001b[0m in \u001b[0;36mline 1\n\u001b[0;32m----> <a href='file:///workspaces/tads-2023/draft.py?line=17'>18</a>\u001b[0m download_data(\u001b[39m\"\u001b[39m\u001b[39mbbas3.sa\u001b[39m\u001b[39m\"\u001b[39m)\n",
      "\u001b[0;31mNameError\u001b[0m: name 'download_data' is not defined"
     ]
    }
   ],
   "source": [
    "download_data(\"bbas3.sa\")"
   ]
  },
  {
   "cell_type": "code",
   "execution_count": 2,
   "metadata": {},
   "outputs": [],
   "source": [
    "from data.download import download_data"
   ]
  },
  {
   "cell_type": "code",
   "execution_count": 3,
   "metadata": {},
   "outputs": [
    {
     "name": "stdout",
     "output_type": "stream",
     "text": [
      "[*********************100%%**********************]  1 of 1 completed\n"
     ]
    },
    {
     "data": {
      "text/html": [
       "<div>\n",
       "<style scoped>\n",
       "    .dataframe tbody tr th:only-of-type {\n",
       "        vertical-align: middle;\n",
       "    }\n",
       "\n",
       "    .dataframe tbody tr th {\n",
       "        vertical-align: top;\n",
       "    }\n",
       "\n",
       "    .dataframe thead th {\n",
       "        text-align: right;\n",
       "    }\n",
       "</style>\n",
       "<table border=\"1\" class=\"dataframe\">\n",
       "  <thead>\n",
       "    <tr style=\"text-align: right;\">\n",
       "      <th></th>\n",
       "      <th>Open</th>\n",
       "      <th>High</th>\n",
       "      <th>Low</th>\n",
       "      <th>Close</th>\n",
       "      <th>Adj Close</th>\n",
       "      <th>Volume</th>\n",
       "    </tr>\n",
       "    <tr>\n",
       "      <th>Date</th>\n",
       "      <th></th>\n",
       "      <th></th>\n",
       "      <th></th>\n",
       "      <th></th>\n",
       "      <th></th>\n",
       "      <th></th>\n",
       "    </tr>\n",
       "  </thead>\n",
       "  <tbody>\n",
       "    <tr>\n",
       "      <th>2000-01-03</th>\n",
       "      <td>2.800000</td>\n",
       "      <td>2.853333</td>\n",
       "      <td>2.733333</td>\n",
       "      <td>2.733333</td>\n",
       "      <td>1.074564</td>\n",
       "      <td>514800</td>\n",
       "    </tr>\n",
       "    <tr>\n",
       "      <th>2000-01-04</th>\n",
       "      <td>2.733333</td>\n",
       "      <td>2.740000</td>\n",
       "      <td>2.603333</td>\n",
       "      <td>2.603333</td>\n",
       "      <td>1.023456</td>\n",
       "      <td>314100</td>\n",
       "    </tr>\n",
       "    <tr>\n",
       "      <th>2000-01-05</th>\n",
       "      <td>2.600000</td>\n",
       "      <td>2.633333</td>\n",
       "      <td>2.506666</td>\n",
       "      <td>2.630000</td>\n",
       "      <td>1.033940</td>\n",
       "      <td>478800</td>\n",
       "    </tr>\n",
       "    <tr>\n",
       "      <th>2000-01-06</th>\n",
       "      <td>2.630000</td>\n",
       "      <td>2.666666</td>\n",
       "      <td>2.600000</td>\n",
       "      <td>2.666666</td>\n",
       "      <td>1.048355</td>\n",
       "      <td>205200</td>\n",
       "    </tr>\n",
       "    <tr>\n",
       "      <th>2000-01-07</th>\n",
       "      <td>2.666666</td>\n",
       "      <td>2.666666</td>\n",
       "      <td>2.606666</td>\n",
       "      <td>2.606666</td>\n",
       "      <td>1.024767</td>\n",
       "      <td>394200</td>\n",
       "    </tr>\n",
       "    <tr>\n",
       "      <th>...</th>\n",
       "      <td>...</td>\n",
       "      <td>...</td>\n",
       "      <td>...</td>\n",
       "      <td>...</td>\n",
       "      <td>...</td>\n",
       "      <td>...</td>\n",
       "    </tr>\n",
       "    <tr>\n",
       "      <th>2023-12-08</th>\n",
       "      <td>53.900002</td>\n",
       "      <td>54.599998</td>\n",
       "      <td>53.660000</td>\n",
       "      <td>54.450001</td>\n",
       "      <td>54.107632</td>\n",
       "      <td>10392100</td>\n",
       "    </tr>\n",
       "    <tr>\n",
       "      <th>2023-12-11</th>\n",
       "      <td>54.450001</td>\n",
       "      <td>54.709999</td>\n",
       "      <td>54.070000</td>\n",
       "      <td>54.439999</td>\n",
       "      <td>54.097694</td>\n",
       "      <td>5737000</td>\n",
       "    </tr>\n",
       "    <tr>\n",
       "      <th>2023-12-12</th>\n",
       "      <td>53.799999</td>\n",
       "      <td>53.799999</td>\n",
       "      <td>52.410000</td>\n",
       "      <td>52.500000</td>\n",
       "      <td>52.500000</td>\n",
       "      <td>12531800</td>\n",
       "    </tr>\n",
       "    <tr>\n",
       "      <th>2023-12-13</th>\n",
       "      <td>52.470001</td>\n",
       "      <td>53.259998</td>\n",
       "      <td>51.639999</td>\n",
       "      <td>52.980000</td>\n",
       "      <td>52.980000</td>\n",
       "      <td>18080000</td>\n",
       "    </tr>\n",
       "    <tr>\n",
       "      <th>2023-12-14</th>\n",
       "      <td>53.500000</td>\n",
       "      <td>53.560001</td>\n",
       "      <td>52.400002</td>\n",
       "      <td>53.330002</td>\n",
       "      <td>53.330002</td>\n",
       "      <td>18436600</td>\n",
       "    </tr>\n",
       "  </tbody>\n",
       "</table>\n",
       "<p>5926 rows × 6 columns</p>\n",
       "</div>"
      ],
      "text/plain": [
       "                 Open       High        Low      Close  Adj Close    Volume\n",
       "Date                                                                       \n",
       "2000-01-03   2.800000   2.853333   2.733333   2.733333   1.074564    514800\n",
       "2000-01-04   2.733333   2.740000   2.603333   2.603333   1.023456    314100\n",
       "2000-01-05   2.600000   2.633333   2.506666   2.630000   1.033940    478800\n",
       "2000-01-06   2.630000   2.666666   2.600000   2.666666   1.048355    205200\n",
       "2000-01-07   2.666666   2.666666   2.606666   2.606666   1.024767    394200\n",
       "...               ...        ...        ...        ...        ...       ...\n",
       "2023-12-08  53.900002  54.599998  53.660000  54.450001  54.107632  10392100\n",
       "2023-12-11  54.450001  54.709999  54.070000  54.439999  54.097694   5737000\n",
       "2023-12-12  53.799999  53.799999  52.410000  52.500000  52.500000  12531800\n",
       "2023-12-13  52.470001  53.259998  51.639999  52.980000  52.980000  18080000\n",
       "2023-12-14  53.500000  53.560001  52.400002  53.330002  53.330002  18436600\n",
       "\n",
       "[5926 rows x 6 columns]"
      ]
     },
     "execution_count": 3,
     "metadata": {},
     "output_type": "execute_result"
    }
   ],
   "source": [
    "download_data(\"bbas3.sa\")"
   ]
  }
 ],
 "metadata": {
  "kernelspec": {
   "display_name": "Python 3",
   "language": "python",
   "name": "python3"
  },
  "language_info": {
   "name": "python",
   "version": "3.10.13"
  }
 },
 "nbformat": 4,
 "nbformat_minor": 2
}
